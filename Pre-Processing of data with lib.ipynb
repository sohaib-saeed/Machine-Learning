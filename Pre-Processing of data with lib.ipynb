{
 "cells": [
  {
   "cell_type": "markdown",
   "metadata": {},
   "source": [
    "EXPLANATION OF BUSINESS PROBLEM : Employee Performance Prediction\n",
    "\n",
    "A company wants to optimize its hiring process to ensure they attract and retain top talent while maintaining a diverse workforce. They have collected data on past employees, including their age, salary, gender, and education level, as well as whether they were considered positive or negative outcomes for the company.\n",
    "\n",
    "The company needs to develop a predictive model that can utilize the available data to identify key attributes and patterns associated with positive and negative outcomes. This model will help them make more informed decisions during the hiring process, such as identifying candidates with similar profiles to those who have historically performed well within the company and avoiding potential red flags associated with negative outcomes.\n",
    "\n",
    "\n",
    "\n",
    "\n",
    "\n"
   ]
  },
  {
   "cell_type": "markdown",
   "metadata": {},
   "source": [
    "Pre-Processing Of Data:\n",
    "\n",
    "Handle Missing Values: Fill all the null values which are existing in age, salary, and education column using measures of central tendency.\n",
    "\n",
    "\n",
    "Encode Categorical Variables: Convert categorical variables like Name, gender and education into numerical format using OneHotEncoding.\n",
    "\n",
    "\n",
    "Feature Scaling: Standardize or normalize numerical features like age and salary.\n",
    "\n",
    "\n",
    "Data Splitting: Split the dataset into training and testing sets.\n"
   ]
  },
  {
   "cell_type": "code",
   "execution_count": 1,
   "metadata": {},
   "outputs": [],
   "source": [
    "import pandas as pd\n",
    "import matplotlib.pyplot as pylot"
   ]
  },
  {
   "cell_type": "code",
   "execution_count": 2,
   "metadata": {},
   "outputs": [
    {
     "data": {
      "text/html": [
       "<div>\n",
       "<style scoped>\n",
       "    .dataframe tbody tr th:only-of-type {\n",
       "        vertical-align: middle;\n",
       "    }\n",
       "\n",
       "    .dataframe tbody tr th {\n",
       "        vertical-align: top;\n",
       "    }\n",
       "\n",
       "    .dataframe thead th {\n",
       "        text-align: right;\n",
       "    }\n",
       "</style>\n",
       "<table border=\"1\" class=\"dataframe\">\n",
       "  <thead>\n",
       "    <tr style=\"text-align: right;\">\n",
       "      <th></th>\n",
       "      <th>Name</th>\n",
       "      <th>Age</th>\n",
       "      <th>Salary</th>\n",
       "      <th>Gender</th>\n",
       "      <th>Education</th>\n",
       "      <th>Label</th>\n",
       "    </tr>\n",
       "  </thead>\n",
       "  <tbody>\n",
       "    <tr>\n",
       "      <th>0</th>\n",
       "      <td>John</td>\n",
       "      <td>NaN</td>\n",
       "      <td>NaN</td>\n",
       "      <td>Male</td>\n",
       "      <td>Bachelor</td>\n",
       "      <td>Positive</td>\n",
       "    </tr>\n",
       "    <tr>\n",
       "      <th>1</th>\n",
       "      <td>Jane</td>\n",
       "      <td>NaN</td>\n",
       "      <td>60000.0</td>\n",
       "      <td>Female</td>\n",
       "      <td>Master</td>\n",
       "      <td>Positive</td>\n",
       "    </tr>\n",
       "    <tr>\n",
       "      <th>2</th>\n",
       "      <td>Bob</td>\n",
       "      <td>30.0</td>\n",
       "      <td>NaN</td>\n",
       "      <td>Male</td>\n",
       "      <td>PhD</td>\n",
       "      <td>Negative</td>\n",
       "    </tr>\n",
       "    <tr>\n",
       "      <th>3</th>\n",
       "      <td>Alice</td>\n",
       "      <td>28.0</td>\n",
       "      <td>55000.0</td>\n",
       "      <td>Female</td>\n",
       "      <td>NaN</td>\n",
       "      <td>Negative</td>\n",
       "    </tr>\n",
       "    <tr>\n",
       "      <th>4</th>\n",
       "      <td>Charlie</td>\n",
       "      <td>35.0</td>\n",
       "      <td>70000.0</td>\n",
       "      <td>NaN</td>\n",
       "      <td>Bachelor</td>\n",
       "      <td>Positive</td>\n",
       "    </tr>\n",
       "    <tr>\n",
       "      <th>5</th>\n",
       "      <td>Dave</td>\n",
       "      <td>32.0</td>\n",
       "      <td>65000.0</td>\n",
       "      <td>Male</td>\n",
       "      <td>Master</td>\n",
       "      <td>Positive</td>\n",
       "    </tr>\n",
       "    <tr>\n",
       "      <th>6</th>\n",
       "      <td>Eve</td>\n",
       "      <td>27.0</td>\n",
       "      <td>NaN</td>\n",
       "      <td>Female</td>\n",
       "      <td>PhD</td>\n",
       "      <td>Negative</td>\n",
       "    </tr>\n",
       "    <tr>\n",
       "      <th>7</th>\n",
       "      <td>Frank</td>\n",
       "      <td>33.0</td>\n",
       "      <td>75000.0</td>\n",
       "      <td>Male</td>\n",
       "      <td>NaN</td>\n",
       "      <td>Negative</td>\n",
       "    </tr>\n",
       "    <tr>\n",
       "      <th>8</th>\n",
       "      <td>Grace</td>\n",
       "      <td>29.0</td>\n",
       "      <td>62000.0</td>\n",
       "      <td>Female</td>\n",
       "      <td>Master</td>\n",
       "      <td>Positive</td>\n",
       "    </tr>\n",
       "  </tbody>\n",
       "</table>\n",
       "</div>"
      ],
      "text/plain": [
       "      Name   Age   Salary  Gender Education     Label\n",
       "0     John   NaN      NaN    Male  Bachelor  Positive\n",
       "1     Jane   NaN  60000.0  Female    Master  Positive\n",
       "2      Bob  30.0      NaN    Male       PhD  Negative\n",
       "3    Alice  28.0  55000.0  Female       NaN  Negative\n",
       "4  Charlie  35.0  70000.0     NaN  Bachelor  Positive\n",
       "5     Dave  32.0  65000.0    Male    Master  Positive\n",
       "6      Eve  27.0      NaN  Female       PhD  Negative\n",
       "7    Frank  33.0  75000.0    Male       NaN  Negative\n",
       "8    Grace  29.0  62000.0  Female    Master  Positive"
      ]
     },
     "execution_count": 2,
     "metadata": {},
     "output_type": "execute_result"
    }
   ],
   "source": [
    "df = pd.read_csv(\"positive.csv\")\n",
    "df"
   ]
  },
  {
   "cell_type": "code",
   "execution_count": 3,
   "metadata": {},
   "outputs": [
    {
     "data": {
      "text/plain": [
       "array([['John', nan, nan, 'Male', 'Bachelor'],\n",
       "       ['Jane', nan, 60000.0, 'Female', 'Master'],\n",
       "       ['Bob', 30.0, nan, 'Male', 'PhD'],\n",
       "       ['Alice', 28.0, 55000.0, 'Female', nan],\n",
       "       ['Charlie', 35.0, 70000.0, nan, 'Bachelor'],\n",
       "       ['Dave', 32.0, 65000.0, 'Male', 'Master'],\n",
       "       ['Eve', 27.0, nan, 'Female', 'PhD'],\n",
       "       ['Frank', 33.0, 75000.0, 'Male', nan],\n",
       "       ['Grace', 29.0, 62000.0, 'Female', 'Master']], dtype=object)"
      ]
     },
     "execution_count": 3,
     "metadata": {},
     "output_type": "execute_result"
    }
   ],
   "source": [
    "X = df.iloc[:,:-1].values\n",
    "y = df.iloc[:,5].values\n",
    "X"
   ]
  },
  {
   "cell_type": "code",
   "execution_count": 4,
   "metadata": {},
   "outputs": [],
   "source": [
    "from sklearn.impute import SimpleImputer"
   ]
  },
  {
   "cell_type": "code",
   "execution_count": 5,
   "metadata": {},
   "outputs": [
    {
     "data": {
      "text/plain": [
       "array([['John', 30.571428571428573, 64500.0, 'Male', 'Bachelor'],\n",
       "       ['Jane', 30.571428571428573, 60000.0, 'Female', 'Master'],\n",
       "       ['Bob', 30.0, 64500.0, 'Male', 'PhD'],\n",
       "       ['Alice', 28.0, 55000.0, 'Female', nan],\n",
       "       ['Charlie', 35.0, 70000.0, nan, 'Bachelor'],\n",
       "       ['Dave', 32.0, 65000.0, 'Male', 'Master'],\n",
       "       ['Eve', 27.0, 64500.0, 'Female', 'PhD'],\n",
       "       ['Frank', 33.0, 75000.0, 'Male', nan],\n",
       "       ['Grace', 29.0, 62000.0, 'Female', 'Master']], dtype=object)"
      ]
     },
     "execution_count": 5,
     "metadata": {},
     "output_type": "execute_result"
    }
   ],
   "source": [
    "imputer = SimpleImputer(strategy=\"mean\")\n",
    "imputer = imputer.fit(X[:,1:3])\n",
    "X[:,1:3] = imputer.transform(X[:,1:3])\n",
    "X"
   ]
  },
  {
   "cell_type": "code",
   "execution_count": 6,
   "metadata": {},
   "outputs": [
    {
     "data": {
      "text/plain": [
       "array([['John', 30.571428571428573, 64500.0, 'Male', 'Bachelor'],\n",
       "       ['Jane', 30.571428571428573, 60000.0, 'Female', 'Master'],\n",
       "       ['Bob', 30.0, 64500.0, 'Male', 'PhD'],\n",
       "       ['Alice', 28.0, 55000.0, 'Female', 'Master'],\n",
       "       ['Charlie', 35.0, 70000.0, 'Female', 'Bachelor'],\n",
       "       ['Dave', 32.0, 65000.0, 'Male', 'Master'],\n",
       "       ['Eve', 27.0, 64500.0, 'Female', 'PhD'],\n",
       "       ['Frank', 33.0, 75000.0, 'Male', 'Master'],\n",
       "       ['Grace', 29.0, 62000.0, 'Female', 'Master']], dtype=object)"
      ]
     },
     "execution_count": 6,
     "metadata": {},
     "output_type": "execute_result"
    }
   ],
   "source": [
    "imputer = SimpleImputer(strategy=\"most_frequent\")\n",
    "imputer = imputer.fit(X[:,3:5])\n",
    "X[:,3:5] = imputer.transform(X[:,3:5])\n",
    "X"
   ]
  },
  {
   "cell_type": "code",
   "execution_count": 7,
   "metadata": {},
   "outputs": [],
   "source": [
    "from sklearn.preprocessing import LabelEncoder\n",
    "label_encoder = LabelEncoder()\n",
    "X[:,3] = label_encoder.fit_transform(X[:,3])"
   ]
  },
  {
   "cell_type": "code",
   "execution_count": 8,
   "metadata": {},
   "outputs": [
    {
     "data": {
      "text/plain": [
       "array([['John', 30.571428571428573, 64500.0, 1, 'Bachelor'],\n",
       "       ['Jane', 30.571428571428573, 60000.0, 0, 'Master'],\n",
       "       ['Bob', 30.0, 64500.0, 1, 'PhD'],\n",
       "       ['Alice', 28.0, 55000.0, 0, 'Master'],\n",
       "       ['Charlie', 35.0, 70000.0, 0, 'Bachelor'],\n",
       "       ['Dave', 32.0, 65000.0, 1, 'Master'],\n",
       "       ['Eve', 27.0, 64500.0, 0, 'PhD'],\n",
       "       ['Frank', 33.0, 75000.0, 1, 'Master'],\n",
       "       ['Grace', 29.0, 62000.0, 0, 'Master']], dtype=object)"
      ]
     },
     "execution_count": 8,
     "metadata": {},
     "output_type": "execute_result"
    }
   ],
   "source": [
    "X"
   ]
  },
  {
   "cell_type": "code",
   "execution_count": 9,
   "metadata": {},
   "outputs": [],
   "source": [
    "from sklearn.preprocessing import OneHotEncoder\n",
    "from sklearn.compose import ColumnTransformer\n",
    "ct = ColumnTransformer([(\"Name\",OneHotEncoder(),[0]),(\"Education\",OneHotEncoder(),[4])],remainder=\"passthrough\")\n",
    "X = ct.fit_transform(X)"
   ]
  },
  {
   "cell_type": "code",
   "execution_count": 10,
   "metadata": {},
   "outputs": [
    {
     "data": {
      "text/plain": [
       "array([[0.0, 0.0, 0.0, 0.0, 0.0, 0.0, 0.0, 0.0, 1.0, 1.0, 0.0, 0.0,\n",
       "        30.571428571428573, 64500.0, 1],\n",
       "       [0.0, 0.0, 0.0, 0.0, 0.0, 0.0, 0.0, 1.0, 0.0, 0.0, 1.0, 0.0,\n",
       "        30.571428571428573, 60000.0, 0],\n",
       "       [0.0, 1.0, 0.0, 0.0, 0.0, 0.0, 0.0, 0.0, 0.0, 0.0, 0.0, 1.0, 30.0,\n",
       "        64500.0, 1],\n",
       "       [1.0, 0.0, 0.0, 0.0, 0.0, 0.0, 0.0, 0.0, 0.0, 0.0, 1.0, 0.0, 28.0,\n",
       "        55000.0, 0],\n",
       "       [0.0, 0.0, 1.0, 0.0, 0.0, 0.0, 0.0, 0.0, 0.0, 1.0, 0.0, 0.0, 35.0,\n",
       "        70000.0, 0],\n",
       "       [0.0, 0.0, 0.0, 1.0, 0.0, 0.0, 0.0, 0.0, 0.0, 0.0, 1.0, 0.0, 32.0,\n",
       "        65000.0, 1],\n",
       "       [0.0, 0.0, 0.0, 0.0, 1.0, 0.0, 0.0, 0.0, 0.0, 0.0, 0.0, 1.0, 27.0,\n",
       "        64500.0, 0],\n",
       "       [0.0, 0.0, 0.0, 0.0, 0.0, 1.0, 0.0, 0.0, 0.0, 0.0, 1.0, 0.0, 33.0,\n",
       "        75000.0, 1],\n",
       "       [0.0, 0.0, 0.0, 0.0, 0.0, 0.0, 1.0, 0.0, 0.0, 0.0, 1.0, 0.0, 29.0,\n",
       "        62000.0, 0]], dtype=object)"
      ]
     },
     "execution_count": 10,
     "metadata": {},
     "output_type": "execute_result"
    }
   ],
   "source": [
    "X"
   ]
  },
  {
   "cell_type": "code",
   "execution_count": 11,
   "metadata": {},
   "outputs": [],
   "source": [
    "from sklearn.preprocessing import LabelEncoder\n",
    "label_encoder = LabelEncoder()\n",
    "y_encoded = label_encoder.fit_transform(y)\n",
    "y = y_encoded"
   ]
  },
  {
   "cell_type": "code",
   "execution_count": 12,
   "metadata": {},
   "outputs": [
    {
     "data": {
      "text/plain": [
       "array([1, 1, 0, 0, 1, 1, 0, 0, 1])"
      ]
     },
     "execution_count": 12,
     "metadata": {},
     "output_type": "execute_result"
    }
   ],
   "source": [
    "y"
   ]
  },
  {
   "cell_type": "code",
   "execution_count": 13,
   "metadata": {},
   "outputs": [],
   "source": [
    "from sklearn.model_selection import train_test_split\n",
    "X_train,X_test,y_train,y_test = train_test_split(X,y,test_size = 0.2, random_state = 0)"
   ]
  },
  {
   "cell_type": "code",
   "execution_count": 14,
   "metadata": {},
   "outputs": [
    {
     "name": "stdout",
     "output_type": "stream",
     "text": [
      "[[-0.40824829  0.         -0.40824829 -0.40824829 -0.40824829  0.\n",
      "  -0.40824829  2.44948974 -0.40824829 -0.63245553  0.8660254  -0.40824829\n",
      "   0.10704756 -0.69216144 -0.63245553]\n",
      " [-0.40824829  0.          2.44948974 -0.40824829 -0.40824829  0.\n",
      "  -0.40824829 -0.40824829 -0.40824829  1.58113883 -1.15470054 -0.40824829\n",
      "   1.89391844  1.61504335 -0.63245553]\n",
      " [-0.40824829  0.         -0.40824829 -0.40824829 -0.40824829  0.\n",
      "   2.44948974 -0.40824829 -0.40824829 -0.63245553  0.8660254  -0.40824829\n",
      "  -0.52700339 -0.23072048 -0.63245553]\n",
      " [-0.40824829  0.         -0.40824829 -0.40824829  2.44948974  0.\n",
      "  -0.40824829 -0.40824829 -0.40824829 -0.63245553 -1.15470054  2.44948974\n",
      "  -1.33397733  0.34608072 -0.63245553]\n",
      " [ 2.44948974  0.         -0.40824829 -0.40824829 -0.40824829  0.\n",
      "  -0.40824829 -0.40824829 -0.40824829 -0.63245553  0.8660254  -0.40824829\n",
      "  -0.93049036 -1.84576383 -0.63245553]\n",
      " [-0.40824829  0.         -0.40824829 -0.40824829 -0.40824829  0.\n",
      "  -0.40824829 -0.40824829  2.44948974  1.58113883 -1.15470054 -0.40824829\n",
      "   0.10704756  0.34608072  1.58113883]\n",
      " [-0.40824829  0.         -0.40824829  2.44948974 -0.40824829  0.\n",
      "  -0.40824829 -0.40824829 -0.40824829 -0.63245553  0.8660254  -0.40824829\n",
      "   0.68345752  0.46144096  1.58113883]]\n",
      "[[ 0. -1.  0.  0.  0.  1.  0.  0.  0.  0.  1. -1.  1.  1.  0.]\n",
      " [ 0.  1.  0.  0.  0. -1.  0.  0.  0.  0. -1.  1. -1. -1.  0.]]\n"
     ]
    }
   ],
   "source": [
    "from sklearn.preprocessing import StandardScaler\n",
    "sc_X = StandardScaler()\n",
    "X_train = sc_X.fit_transform(X_train)\n",
    "print(X_train)\n",
    "X_test = sc_X.fit_transform(X_test)\n",
    "print(X_test)"
   ]
  }
 ],
 "metadata": {
  "kernelspec": {
   "display_name": "Python 3",
   "language": "python",
   "name": "python3"
  },
  "language_info": {
   "codemirror_mode": {
    "name": "ipython",
    "version": 3
   },
   "file_extension": ".py",
   "mimetype": "text/x-python",
   "name": "python",
   "nbconvert_exporter": "python",
   "pygments_lexer": "ipython3",
   "version": "3.10.0"
  }
 },
 "nbformat": 4,
 "nbformat_minor": 2
}
