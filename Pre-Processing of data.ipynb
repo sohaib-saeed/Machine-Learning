{
 "cells": [
  {
   "cell_type": "code",
   "execution_count": 1,
   "metadata": {},
   "outputs": [],
   "source": [
    "import pandas as pd\n",
    "import matplotlib.pyplot as pylot"
   ]
  },
  {
   "cell_type": "code",
   "execution_count": 2,
   "metadata": {},
   "outputs": [
    {
     "data": {
      "text/html": [
       "<div>\n",
       "<style scoped>\n",
       "    .dataframe tbody tr th:only-of-type {\n",
       "        vertical-align: middle;\n",
       "    }\n",
       "\n",
       "    .dataframe tbody tr th {\n",
       "        vertical-align: top;\n",
       "    }\n",
       "\n",
       "    .dataframe thead th {\n",
       "        text-align: right;\n",
       "    }\n",
       "</style>\n",
       "<table border=\"1\" class=\"dataframe\">\n",
       "  <thead>\n",
       "    <tr style=\"text-align: right;\">\n",
       "      <th></th>\n",
       "      <th>Name</th>\n",
       "      <th>Age</th>\n",
       "      <th>Salary</th>\n",
       "      <th>Gender</th>\n",
       "      <th>Education</th>\n",
       "      <th>Label</th>\n",
       "    </tr>\n",
       "  </thead>\n",
       "  <tbody>\n",
       "    <tr>\n",
       "      <th>0</th>\n",
       "      <td>John</td>\n",
       "      <td>NaN</td>\n",
       "      <td>NaN</td>\n",
       "      <td>Male</td>\n",
       "      <td>Bachelor</td>\n",
       "      <td>Positive</td>\n",
       "    </tr>\n",
       "    <tr>\n",
       "      <th>1</th>\n",
       "      <td>Jane</td>\n",
       "      <td>NaN</td>\n",
       "      <td>60000.0</td>\n",
       "      <td>Female</td>\n",
       "      <td>Master</td>\n",
       "      <td>Positive</td>\n",
       "    </tr>\n",
       "    <tr>\n",
       "      <th>2</th>\n",
       "      <td>Bob</td>\n",
       "      <td>30.0</td>\n",
       "      <td>NaN</td>\n",
       "      <td>Male</td>\n",
       "      <td>PhD</td>\n",
       "      <td>Negative</td>\n",
       "    </tr>\n",
       "    <tr>\n",
       "      <th>3</th>\n",
       "      <td>Alice</td>\n",
       "      <td>28.0</td>\n",
       "      <td>55000.0</td>\n",
       "      <td>Female</td>\n",
       "      <td>NaN</td>\n",
       "      <td>Negative</td>\n",
       "    </tr>\n",
       "    <tr>\n",
       "      <th>4</th>\n",
       "      <td>Charlie</td>\n",
       "      <td>35.0</td>\n",
       "      <td>70000.0</td>\n",
       "      <td>NaN</td>\n",
       "      <td>Bachelor</td>\n",
       "      <td>Positive</td>\n",
       "    </tr>\n",
       "    <tr>\n",
       "      <th>5</th>\n",
       "      <td>Dave</td>\n",
       "      <td>32.0</td>\n",
       "      <td>65000.0</td>\n",
       "      <td>Male</td>\n",
       "      <td>Master</td>\n",
       "      <td>Positive</td>\n",
       "    </tr>\n",
       "    <tr>\n",
       "      <th>6</th>\n",
       "      <td>Eve</td>\n",
       "      <td>27.0</td>\n",
       "      <td>NaN</td>\n",
       "      <td>Female</td>\n",
       "      <td>PhD</td>\n",
       "      <td>Negative</td>\n",
       "    </tr>\n",
       "    <tr>\n",
       "      <th>7</th>\n",
       "      <td>Frank</td>\n",
       "      <td>33.0</td>\n",
       "      <td>75000.0</td>\n",
       "      <td>Male</td>\n",
       "      <td>NaN</td>\n",
       "      <td>Negative</td>\n",
       "    </tr>\n",
       "    <tr>\n",
       "      <th>8</th>\n",
       "      <td>Grace</td>\n",
       "      <td>29.0</td>\n",
       "      <td>62000.0</td>\n",
       "      <td>Female</td>\n",
       "      <td>Master</td>\n",
       "      <td>Positive</td>\n",
       "    </tr>\n",
       "  </tbody>\n",
       "</table>\n",
       "</div>"
      ],
      "text/plain": [
       "      Name   Age   Salary  Gender Education     Label\n",
       "0     John   NaN      NaN    Male  Bachelor  Positive\n",
       "1     Jane   NaN  60000.0  Female    Master  Positive\n",
       "2      Bob  30.0      NaN    Male       PhD  Negative\n",
       "3    Alice  28.0  55000.0  Female       NaN  Negative\n",
       "4  Charlie  35.0  70000.0     NaN  Bachelor  Positive\n",
       "5     Dave  32.0  65000.0    Male    Master  Positive\n",
       "6      Eve  27.0      NaN  Female       PhD  Negative\n",
       "7    Frank  33.0  75000.0    Male       NaN  Negative\n",
       "8    Grace  29.0  62000.0  Female    Master  Positive"
      ]
     },
     "execution_count": 2,
     "metadata": {},
     "output_type": "execute_result"
    }
   ],
   "source": [
    "df = pd.read_csv(\"positive.csv\")\n",
    "df"
   ]
  },
  {
   "cell_type": "code",
   "execution_count": 3,
   "metadata": {},
   "outputs": [
    {
     "data": {
      "text/plain": [
       "array([['John', nan, nan, 'Male', 'Bachelor'],\n",
       "       ['Jane', nan, 60000.0, 'Female', 'Master'],\n",
       "       ['Bob', 30.0, nan, 'Male', 'PhD'],\n",
       "       ['Alice', 28.0, 55000.0, 'Female', nan],\n",
       "       ['Charlie', 35.0, 70000.0, nan, 'Bachelor'],\n",
       "       ['Dave', 32.0, 65000.0, 'Male', 'Master'],\n",
       "       ['Eve', 27.0, nan, 'Female', 'PhD'],\n",
       "       ['Frank', 33.0, 75000.0, 'Male', nan],\n",
       "       ['Grace', 29.0, 62000.0, 'Female', 'Master']], dtype=object)"
      ]
     },
     "execution_count": 3,
     "metadata": {},
     "output_type": "execute_result"
    }
   ],
   "source": [
    "X = df.iloc[:,:-1].values\n",
    "y = df.iloc[:,5].values\n",
    "\n",
    "X"
   ]
  },
  {
   "cell_type": "code",
   "execution_count": 4,
   "metadata": {},
   "outputs": [
    {
     "data": {
      "text/plain": [
       "array(['Positive', 'Positive', 'Negative', 'Negative', 'Positive',\n",
       "       'Positive', 'Negative', 'Negative', 'Positive'], dtype=object)"
      ]
     },
     "execution_count": 4,
     "metadata": {},
     "output_type": "execute_result"
    }
   ],
   "source": [
    "y"
   ]
  },
  {
   "cell_type": "code",
   "execution_count": 5,
   "metadata": {},
   "outputs": [],
   "source": [
    "import numpy as np\n",
    "from numpy import nan\n",
    "class Populatevalues:\n",
    "    def __init__(self, arr, category, column):\n",
    "        self.arr = arr\n",
    "        self.category = category\n",
    "        self.column = column\n",
    "        self.nanToNone()\n",
    "        self.Populate()\n",
    "\n",
    "    def nanToNone(self):\n",
    "        for row in self.arr:\n",
    "            for i in range(len(row)):\n",
    "                if row[i] != row[i]:\n",
    "                    row[i] = None\n",
    "\n",
    "    def ifMean(self):\n",
    "        sum = 0\n",
    "        count = 0\n",
    "        num_rows = len(self.arr)\n",
    "        for i in range(num_rows):\n",
    "            for j in range(self.column-1, self.column):\n",
    "                if self.arr[i][j] != None:\n",
    "                    sum += self.arr[i][j] \n",
    "                    count += 1\n",
    "        mean = sum / count\n",
    "        return round(mean,1)\n",
    "\n",
    "\n",
    "\n",
    "\n",
    "    def ifMedian(self):\n",
    "        count = 0\n",
    "        new = []\n",
    "        num_rows = len(self.arr)\n",
    "        for i in range(num_rows):\n",
    "            for j in range(self.column-1, self.column):\n",
    "                if self.arr[i][j] != None:\n",
    "                    count += 1\n",
    "                    new.append(self.arr[i][j])\n",
    "        new = np.sort(new)\n",
    "        length = len(new)\n",
    "        if length % 2 == 0:\n",
    "            median = (length + 1) // 2\n",
    "        else:\n",
    "            median = ((length // 2) + ((length + 1) // 2)) // 2\n",
    "        median_ = new[median]\n",
    "        return median_\n",
    "        \n",
    "\n",
    "    def ifMode(self):\n",
    "        element_count = {}\n",
    "        for sublist in self.arr:\n",
    "            if self.column - 1 < len(sublist):\n",
    "                element = sublist[self.column-1]\n",
    "                if element in element_count:\n",
    "                    element_count[element] += 1\n",
    "                else:\n",
    "                    element_count[element] = 1\n",
    "                    \n",
    "        most_common_element = None\n",
    "        max_count = 0\n",
    "        for element, count in element_count.items():\n",
    "            if count > max_count:\n",
    "                most_common_element = element\n",
    "                max_count = count\n",
    "                \n",
    "        return most_common_element\n",
    "\n",
    "    def Populate(self):\n",
    "        if self.category == \"Mean\":\n",
    "            func = self.ifMean()\n",
    "        elif self.category == \"Median\":\n",
    "            func = self.ifMedian()\n",
    "        elif self.category == \"Mode\":\n",
    "            func = self.ifMode()\n",
    "            \n",
    "        for i in range(len(self.arr)):\n",
    "                for j in range(self.column-1,self.column):\n",
    "                    if self.arr[i][j] == None:\n",
    "                        self.arr[i][j] = func\n",
    "\n"
   ]
  },
  {
   "cell_type": "code",
   "execution_count": 6,
   "metadata": {},
   "outputs": [
    {
     "data": {
      "text/plain": [
       "array([['John', 30.6, 64500.0, 'Male', 'Bachelor'],\n",
       "       ['Jane', 30.6, 60000.0, 'Female', 'Master'],\n",
       "       ['Bob', 30.0, 64500.0, 'Male', 'PhD'],\n",
       "       ['Alice', 28.0, 55000.0, 'Female', 'Master'],\n",
       "       ['Charlie', 35.0, 70000.0, 'Male', 'Bachelor'],\n",
       "       ['Dave', 32.0, 65000.0, 'Male', 'Master'],\n",
       "       ['Eve', 27.0, 64500.0, 'Female', 'PhD'],\n",
       "       ['Frank', 33.0, 75000.0, 'Male', 'Master'],\n",
       "       ['Grace', 29.0, 62000.0, 'Female', 'Master']], dtype=object)"
      ]
     },
     "execution_count": 6,
     "metadata": {},
     "output_type": "execute_result"
    }
   ],
   "source": [
    "Populatevalues(X,\"Mean\",2)\n",
    "Populatevalues(X,\"Mean\",3)\n",
    "Populatevalues(X,\"Mode\",4)\n",
    "Populatevalues(X,\"Mode\",5)\n",
    "X"
   ]
  },
  {
   "cell_type": "code",
   "execution_count": 7,
   "metadata": {},
   "outputs": [],
   "source": [
    "import numpy as np\n",
    "class LabelEncoding:\n",
    "    def __init__(self,arr,column):\n",
    "        self.arr = arr\n",
    "        self.column = column\n",
    "        self.Encoding()\n",
    "\n",
    "\n",
    "    def Encoding(self):\n",
    "        specified_column = self.arr[self.column - 1]\n",
    "        unique_values = np.unique(specified_column)\n",
    "        for i in range(len(self.arr)):\n",
    "            if unique_values[0] == self.arr[i]:\n",
    "                self.arr[i] = 1\n",
    "            else:\n",
    "                self.arr[i] = 0\n",
    "                "
   ]
  },
  {
   "cell_type": "code",
   "execution_count": 8,
   "metadata": {},
   "outputs": [
    {
     "data": {
      "text/plain": [
       "array([1, 1, 0, 0, 1, 1, 0, 0, 1], dtype=object)"
      ]
     },
     "execution_count": 8,
     "metadata": {},
     "output_type": "execute_result"
    }
   ],
   "source": [
    "LabelEncoding(y,1)\n",
    "y\n"
   ]
  },
  {
   "cell_type": "code",
   "execution_count": 9,
   "metadata": {},
   "outputs": [],
   "source": [
    "import numpy as np\n",
    "\n",
    "class OneHotEncoder:\n",
    "    def __init__(self, arr, column):\n",
    "        self.arr = arr\n",
    "        self.column = column\n",
    "\n",
    "    def StrToInt(self):\n",
    "        specified_column = self.arr[:, self.column - 1]\n",
    "        unique_values = np.unique(specified_column)\n",
    "        \n",
    "        if len(unique_values) == 2:\n",
    "            for i in range(len(self.arr)):\n",
    "                if unique_values[0] == self.arr[i][self.column - 1]:\n",
    "                    self.arr[i][self.column - 1] = 1\n",
    "                else:\n",
    "                    self.arr[i][self.column - 1] = 0\n",
    "        else:\n",
    "            unique_count = len(unique_values)\n",
    "            num_rows = self.arr.shape[0]\n",
    "            new_columns = np.zeros((num_rows, unique_count), dtype=int)\n",
    "            left_part = self.arr[:, :self.column]\n",
    "            right_part = self.arr[:, self.column:]\n",
    "            self.arr = np.concatenate((left_part, new_columns, right_part), axis=1)\n",
    "            \n",
    "            for i in range(len(self.arr)):\n",
    "                for j in range(len(unique_values)):\n",
    "                    if unique_values[j] == specified_column[i]:\n",
    "                        self.arr[i][self.column - 1 + j + 1] = 1\n",
    "            self.arr = np.delete(self.arr, self.column - 1, axis=1)\n",
    "        return self.arr"
   ]
  },
  {
   "cell_type": "code",
   "execution_count": 10,
   "metadata": {},
   "outputs": [
    {
     "data": {
      "text/plain": [
       "array([[0, 0, 0, 0, 0, 0, 0, 0, 1, 30.6, 64500.0, 'Male', 'Bachelor'],\n",
       "       [0, 0, 0, 0, 0, 0, 0, 1, 0, 30.6, 60000.0, 'Female', 'Master'],\n",
       "       [0, 1, 0, 0, 0, 0, 0, 0, 0, 30.0, 64500.0, 'Male', 'PhD'],\n",
       "       [1, 0, 0, 0, 0, 0, 0, 0, 0, 28.0, 55000.0, 'Female', 'Master'],\n",
       "       [0, 0, 1, 0, 0, 0, 0, 0, 0, 35.0, 70000.0, 'Male', 'Bachelor'],\n",
       "       [0, 0, 0, 1, 0, 0, 0, 0, 0, 32.0, 65000.0, 'Male', 'Master'],\n",
       "       [0, 0, 0, 0, 1, 0, 0, 0, 0, 27.0, 64500.0, 'Female', 'PhD'],\n",
       "       [0, 0, 0, 0, 0, 1, 0, 0, 0, 33.0, 75000.0, 'Male', 'Master'],\n",
       "       [0, 0, 0, 0, 0, 0, 1, 0, 0, 29.0, 62000.0, 'Female', 'Master']],\n",
       "      dtype=object)"
      ]
     },
     "execution_count": 10,
     "metadata": {},
     "output_type": "execute_result"
    }
   ],
   "source": [
    "encoder = OneHotEncoder(X, 1)\n",
    "encoded_arr = encoder.StrToInt()\n",
    "X = encoded_arr\n",
    "X\n"
   ]
  },
  {
   "cell_type": "code",
   "execution_count": 11,
   "metadata": {},
   "outputs": [],
   "source": [
    "encoder = OneHotEncoder(X, 12)\n",
    "encoded_arr = encoder.StrToInt()\n",
    "X = encoded_arr"
   ]
  },
  {
   "cell_type": "code",
   "execution_count": 12,
   "metadata": {},
   "outputs": [
    {
     "data": {
      "text/plain": [
       "array([[0, 0, 0, 0, 0, 0, 0, 0, 1, 30.6, 64500.0, 0, 1, 0, 0],\n",
       "       [0, 0, 0, 0, 0, 0, 0, 1, 0, 30.6, 60000.0, 1, 0, 1, 0],\n",
       "       [0, 1, 0, 0, 0, 0, 0, 0, 0, 30.0, 64500.0, 0, 0, 0, 1],\n",
       "       [1, 0, 0, 0, 0, 0, 0, 0, 0, 28.0, 55000.0, 1, 0, 1, 0],\n",
       "       [0, 0, 1, 0, 0, 0, 0, 0, 0, 35.0, 70000.0, 0, 1, 0, 0],\n",
       "       [0, 0, 0, 1, 0, 0, 0, 0, 0, 32.0, 65000.0, 0, 0, 1, 0],\n",
       "       [0, 0, 0, 0, 1, 0, 0, 0, 0, 27.0, 64500.0, 1, 0, 0, 1],\n",
       "       [0, 0, 0, 0, 0, 1, 0, 0, 0, 33.0, 75000.0, 0, 0, 1, 0],\n",
       "       [0, 0, 0, 0, 0, 0, 1, 0, 0, 29.0, 62000.0, 1, 0, 1, 0]],\n",
       "      dtype=object)"
      ]
     },
     "execution_count": 12,
     "metadata": {},
     "output_type": "execute_result"
    }
   ],
   "source": [
    "encoder = OneHotEncoder(X, 13)\n",
    "encoded_arr = encoder.StrToInt()\n",
    "X = encoded_arr\n",
    "X"
   ]
  },
  {
   "cell_type": "code",
   "execution_count": 13,
   "metadata": {},
   "outputs": [],
   "source": [
    "import numpy as np\n",
    "class Scaling:\n",
    "    def __init__(self, arr, column, method):\n",
    "        self.arr = arr\n",
    "        self.column = column\n",
    "        self.method = method\n",
    "        self.Scale()\n",
    "\n",
    "\n",
    "    def MinMax(self):\n",
    "        maximum = float(max(self.arr[:, self.column - 1]))\n",
    "        minimum = float(min(self.arr[:, self.column - 1]))\n",
    "\n",
    "        for i in range(len(self.arr)):\n",
    "            for j in range(self.column - 1, self.column):\n",
    "                self.arr[i][j] = (float(self.arr[i][j]) - minimum) / (maximum - minimum)\n",
    "            \n",
    "    def MeanStd (self):\n",
    "        mean = np.mean(self.arr[:,self.column - 1])\n",
    "        std = np.std(self.arr[:,self.column - 1])\n",
    "        for i in range(len(self.arr)):\n",
    "            for j in range(self.column - 1, self.column):\n",
    "                self.arr[i][j] = (float(self.arr[i][j]) - mean) / std\n",
    "        \n",
    "    def Scale(self):\n",
    "        if self.method == \"MinMax\":\n",
    "            self.MinMax()\n",
    "        elif self.method == \"MeanStd\":\n",
    "            self.MeanStd()\n",
    "\n",
    "\n",
    "    \n"
   ]
  },
  {
   "cell_type": "code",
   "execution_count": 14,
   "metadata": {},
   "outputs": [
    {
     "data": {
      "text/plain": [
       "array([[0, 0, 0, 0, 0, 0, 0, 0, 1, 0.009455023062485484, 0.475, 0, 1, 0,\n",
       "        0],\n",
       "       [0, 0, 0, 0, 0, 0, 0, 1, 0, 0.009455023062485484, 0.25, 1, 0, 1,\n",
       "        0],\n",
       "       [0, 1, 0, 0, 0, 0, 0, 0, 0, -0.24583059962458326, 0.475, 0, 0, 0,\n",
       "        1],\n",
       "       [1, 0, 0, 0, 0, 0, 0, 0, 0, -1.0967826752481438, 0.0, 1, 0, 1, 0],\n",
       "       [0, 0, 1, 0, 0, 0, 0, 0, 0, 1.881549589434318, 0.75, 0, 1, 0, 0],\n",
       "       [0, 0, 0, 1, 0, 0, 0, 0, 0, 0.6051214759989773, 0.5, 0, 0, 1, 0],\n",
       "       [0, 0, 0, 0, 1, 0, 0, 0, 0, -1.5222587130599239, 0.475, 1, 0, 0,\n",
       "        1],\n",
       "       [0, 0, 0, 0, 0, 1, 0, 0, 0, 1.0305975138107575, 1.0, 0, 0, 1, 0],\n",
       "       [0, 0, 0, 0, 0, 0, 1, 0, 0, -0.6713066374363635, 0.35, 1, 0, 1, 0]],\n",
       "      dtype=object)"
      ]
     },
     "execution_count": 14,
     "metadata": {},
     "output_type": "execute_result"
    }
   ],
   "source": [
    "Scaling(X,11,\"MinMax\")\n",
    "Scaling(X,10,\"MeanStd\")\n",
    "X"
   ]
  },
  {
   "cell_type": "code",
   "execution_count": 15,
   "metadata": {},
   "outputs": [],
   "source": [
    "import numpy as np\n",
    "class Split:\n",
    "    def __init__ (self,arr,size):\n",
    "        self.arr = arr\n",
    "        self.size = size\n",
    "\n",
    "    def split(self):\n",
    "        total = len(self.arr)\n",
    "        percentage = int((self.size / 100) * total)\n",
    "        Train = self.arr[:percentage]\n",
    "        Test = self.arr[percentage:]\n",
    "        print(\"Training Data\")\n",
    "        print(Train)\n",
    "        print(\"Testing Data\")\n",
    "        print(Test)\n",
    "\n",
    "\n",
    "\n"
   ]
  },
  {
   "cell_type": "code",
   "execution_count": 16,
   "metadata": {},
   "outputs": [
    {
     "name": "stdout",
     "output_type": "stream",
     "text": [
      "Training Data\n",
      "[[0 0 0 0 0 0 0 0 1 0.009455023062485484 0.475 0 1 0 0]\n",
      " [0 0 0 0 0 0 0 1 0 0.009455023062485484 0.25 1 0 1 0]\n",
      " [0 1 0 0 0 0 0 0 0 -0.24583059962458326 0.475 0 0 0 1]\n",
      " [1 0 0 0 0 0 0 0 0 -1.0967826752481438 0.0 1 0 1 0]\n",
      " [0 0 1 0 0 0 0 0 0 1.881549589434318 0.75 0 1 0 0]\n",
      " [0 0 0 1 0 0 0 0 0 0.6051214759989773 0.5 0 0 1 0]]\n",
      "Testing Data\n",
      "[[0 0 0 0 1 0 0 0 0 -1.5222587130599239 0.475 1 0 0 1]\n",
      " [0 0 0 0 0 1 0 0 0 1.0305975138107575 1.0 0 0 1 0]\n",
      " [0 0 0 0 0 0 1 0 0 -0.6713066374363635 0.35 1 0 1 0]]\n"
     ]
    }
   ],
   "source": [
    "s_x = Split(X,70)\n",
    "s_x.split()\n",
    "\n"
   ]
  },
  {
   "cell_type": "code",
   "execution_count": 17,
   "metadata": {},
   "outputs": [
    {
     "name": "stdout",
     "output_type": "stream",
     "text": [
      "Training Data\n",
      "[1 1 0 0 1 1]\n",
      "Testing Data\n",
      "[0 0 1]\n"
     ]
    }
   ],
   "source": [
    "s_y = Split(y,70)\n",
    "s_y.split()"
   ]
  },
  {
   "cell_type": "code",
   "execution_count": null,
   "metadata": {},
   "outputs": [],
   "source": []
  }
 ],
 "metadata": {
  "kernelspec": {
   "display_name": "Python 3",
   "language": "python",
   "name": "python3"
  },
  "language_info": {
   "codemirror_mode": {
    "name": "ipython",
    "version": 3
   },
   "file_extension": ".py",
   "mimetype": "text/x-python",
   "name": "python",
   "nbconvert_exporter": "python",
   "pygments_lexer": "ipython3",
   "version": "3.10.0"
  }
 },
 "nbformat": 4,
 "nbformat_minor": 2
}
